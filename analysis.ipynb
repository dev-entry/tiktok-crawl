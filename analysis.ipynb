{
 "cells": [
  {
   "cell_type": "code",
   "execution_count": 2,
   "metadata": {},
   "outputs": [
    {
     "name": "stdout",
     "output_type": "stream",
     "text": [
      "129\n"
     ]
    }
   ],
   "source": [
    "# open tiktokers.json and read the data and print length of the data\n",
    "import json\n",
    "\n",
    "with open('tiktokers.json') as f:\n",
    "    data = json.load(f)\n",
    "\n",
    "print(len(data))"
   ]
  },
  {
   "cell_type": "code",
   "execution_count": 12,
   "metadata": {},
   "outputs": [],
   "source": [
    "# convert the data to csv format and write it to a file\n",
    "# ammong the keys of the data, I need id, nickname, ttSeller, signature, uniqueId, followerCount, followingCount, friendCount, heartCount, videoCount, diggCount, profileUrl, and country\n",
    "import csv\n",
    "import requests\n",
    "\n",
    "with open('tiktokers.csv', 'w') as f:\n",
    "    writer = csv.writer(f)\n",
    "    writer.writerow(['id', 'nickname', 'ttSeller', 'signature', 'uniqueId', 'followerCount', 'followingCount', 'friendCount', 'heartCount', 'videoCount', 'diggCount', 'profileUrl', 'language'])\n",
    "    for t in data:\n",
    "        # using ollama api, determine which country the tiktokers are from\n",
    "        nickname = t[\"nickname\"].replace(\"\\n\", \" \")\n",
    "        bio = t[\"signature\"].replace(\"\\n\", \" \")\n",
    "        uniqueId = t[\"uniqueId\"]\n",
    "\n",
    "        system_promt = f\"You will be given the nickname, and bio of a TikToker. Your job is to look at it and find out what language the TikToker's nickname and bio are written. Return only the language, nothing else. For example, if they're written by English, return “English” only.\"\n",
    "        system_message = {\n",
    "            \"role\": \"system\",\n",
    "            \"content\": system_promt,\n",
    "        }\n",
    "\n",
    "        user_message = {\n",
    "            \"role\": \"user\",\n",
    "            \"content\": f\"nickname: {nickname}\\nbio: {bio}\",\n",
    "        }\n",
    "\n",
    "        system_message_2 = {\n",
    "            \"role\": \"user\",\n",
    "            \"content\": \"What language is the nickname and bio written in? Remember, return only the language, nothing else.\",\n",
    "        }\n",
    "\n",
    "        response = requests.post(\n",
    "            \"http://localhost:11434/api/chat\",\n",
    "            json={\"model\": \"llama3\",\n",
    "                  \"messages\": [system_message, user_message, system_message_2],\n",
    "                  \"stream\": False,\n",
    "                  },\n",
    "        )\n",
    "        language = response.json()[\"message\"][\"content\"]\n",
    "\n",
    "        writer.writerow(\n",
    "            [\n",
    "                t[\"id\"],\n",
    "                t[\"nickname\"].replace(\"\\n\", \" \"),\n",
    "                t.get(\"ttSeller\", False),\n",
    "                t[\"signature\"].replace(\"\\n\", \" \"),\n",
    "                t[\"uniqueId\"],\n",
    "                t[\"followerCount\"],\n",
    "                t[\"followingCount\"],\n",
    "                t[\"friendCount\"],\n",
    "                t[\"heartCount\"],\n",
    "                t[\"videoCount\"],\n",
    "                t[\"diggCount\"],\n",
    "                f\"tiktok.com/@{t['uniqueId']}\",\n",
    "                language,\n",
    "            ]\n",
    "        )"
   ]
  },
  {
   "cell_type": "code",
   "execution_count": null,
   "metadata": {},
   "outputs": [],
   "source": []
  }
 ],
 "metadata": {
  "kernelspec": {
   "display_name": ".venv",
   "language": "python",
   "name": "python3"
  },
  "language_info": {
   "codemirror_mode": {
    "name": "ipython",
    "version": 3
   },
   "file_extension": ".py",
   "mimetype": "text/x-python",
   "name": "python",
   "nbconvert_exporter": "python",
   "pygments_lexer": "ipython3",
   "version": "3.12.2"
  }
 },
 "nbformat": 4,
 "nbformat_minor": 2
}
